{
 "cells": [
  {
   "cell_type": "code",
   "execution_count": 1,
   "metadata": {},
   "outputs": [
    {
     "ename": "RuntimeError",
     "evalue": "Could not find DOLFIN pkg-config file. Please make sure appropriate paths are set.",
     "output_type": "error",
     "traceback": [
      "\u001b[0;31m---------------------------------------------------------------------------\u001b[0m",
      "\u001b[0;31mRuntimeError\u001b[0m                              Traceback (most recent call last)",
      "\u001b[0;32m<ipython-input-1-a1c96dd90324>\u001b[0m in \u001b[0;36m<module>\u001b[0;34m\u001b[0m\n\u001b[0;32m----> 1\u001b[0;31m \u001b[0;32mfrom\u001b[0m \u001b[0mdolfin\u001b[0m \u001b[0;32mimport\u001b[0m \u001b[0;34m*\u001b[0m\u001b[0;34m\u001b[0m\u001b[0;34m\u001b[0m\u001b[0m\n\u001b[0m\u001b[1;32m      2\u001b[0m \u001b[0;32mfrom\u001b[0m \u001b[0mmshr\u001b[0m \u001b[0;32mimport\u001b[0m \u001b[0;34m*\u001b[0m\u001b[0;34m\u001b[0m\u001b[0;34m\u001b[0m\u001b[0m\n\u001b[1;32m      3\u001b[0m \u001b[0;32mfrom\u001b[0m \u001b[0mpylab\u001b[0m \u001b[0;32mimport\u001b[0m \u001b[0mshow\u001b[0m\u001b[0;34m,\u001b[0m\u001b[0mtriplot\u001b[0m\u001b[0;34m\u001b[0m\u001b[0;34m\u001b[0m\u001b[0m\n\u001b[1;32m      4\u001b[0m \u001b[0;32mimport\u001b[0m \u001b[0mmatplotlib\u001b[0m\u001b[0;34m.\u001b[0m\u001b[0mpyplot\u001b[0m \u001b[0;32mas\u001b[0m \u001b[0mplt\u001b[0m\u001b[0;34m\u001b[0m\u001b[0;34m\u001b[0m\u001b[0m\n\u001b[1;32m      5\u001b[0m \u001b[0;32mimport\u001b[0m \u001b[0mnumpy\u001b[0m \u001b[0;32mas\u001b[0m \u001b[0mnp\u001b[0m\u001b[0;34m\u001b[0m\u001b[0;34m\u001b[0m\u001b[0m\n",
      "\u001b[0;32m~/anaconda3/envs/fenicsproject/lib/python3.8/site-packages/dolfin/__init__.py\u001b[0m in \u001b[0;36m<module>\u001b[0;34m\u001b[0m\n\u001b[1;32m    140\u001b[0m \u001b[0;32mfrom\u001b[0m \u001b[0;34m.\u001b[0m\u001b[0mcommon\u001b[0m\u001b[0;34m.\u001b[0m\u001b[0mplotting\u001b[0m \u001b[0;32mimport\u001b[0m \u001b[0mplot\u001b[0m\u001b[0;34m\u001b[0m\u001b[0;34m\u001b[0m\u001b[0m\n\u001b[1;32m    141\u001b[0m \u001b[0;34m\u001b[0m\u001b[0m\n\u001b[0;32m--> 142\u001b[0;31m from .fem.assembling import (assemble, assemble_system, assemble_multimesh,\n\u001b[0m\u001b[1;32m    143\u001b[0m                              SystemAssembler, assemble_local)\n\u001b[1;32m    144\u001b[0m \u001b[0;32mfrom\u001b[0m \u001b[0;34m.\u001b[0m\u001b[0mfem\u001b[0m\u001b[0;34m.\u001b[0m\u001b[0mform\u001b[0m \u001b[0;32mimport\u001b[0m \u001b[0mForm\u001b[0m\u001b[0;34m\u001b[0m\u001b[0;34m\u001b[0m\u001b[0m\n",
      "\u001b[0;32m~/anaconda3/envs/fenicsproject/lib/python3.8/site-packages/dolfin/fem/assembling.py\u001b[0m in \u001b[0;36m<module>\u001b[0;34m\u001b[0m\n\u001b[1;32m     32\u001b[0m \u001b[0;32mimport\u001b[0m \u001b[0mufl\u001b[0m\u001b[0;34m\u001b[0m\u001b[0;34m\u001b[0m\u001b[0m\n\u001b[1;32m     33\u001b[0m \u001b[0;32mimport\u001b[0m \u001b[0mdolfin\u001b[0m\u001b[0;34m.\u001b[0m\u001b[0mcpp\u001b[0m \u001b[0;32mas\u001b[0m \u001b[0mcpp\u001b[0m\u001b[0;34m\u001b[0m\u001b[0;34m\u001b[0m\u001b[0m\n\u001b[0;32m---> 34\u001b[0;31m \u001b[0;32mfrom\u001b[0m \u001b[0mdolfin\u001b[0m\u001b[0;34m.\u001b[0m\u001b[0mfem\u001b[0m\u001b[0;34m.\u001b[0m\u001b[0mform\u001b[0m \u001b[0;32mimport\u001b[0m \u001b[0mForm\u001b[0m\u001b[0;34m\u001b[0m\u001b[0;34m\u001b[0m\u001b[0m\n\u001b[0m\u001b[1;32m     35\u001b[0m \u001b[0;32mfrom\u001b[0m \u001b[0mdolfin\u001b[0m \u001b[0;32mimport\u001b[0m \u001b[0mMPI\u001b[0m\u001b[0;34m\u001b[0m\u001b[0;34m\u001b[0m\u001b[0m\n\u001b[1;32m     36\u001b[0m \u001b[0;32mfrom\u001b[0m \u001b[0mdolfin\u001b[0m\u001b[0;34m.\u001b[0m\u001b[0mfunction\u001b[0m\u001b[0;34m.\u001b[0m\u001b[0mmultimeshfunction\u001b[0m \u001b[0;32mimport\u001b[0m \u001b[0mMultiMeshFunction\u001b[0m\u001b[0;34m\u001b[0m\u001b[0;34m\u001b[0m\u001b[0m\n",
      "\u001b[0;32m~/anaconda3/envs/fenicsproject/lib/python3.8/site-packages/dolfin/fem/form.py\u001b[0m in \u001b[0;36m<module>\u001b[0;34m\u001b[0m\n\u001b[1;32m     10\u001b[0m \u001b[0;32mimport\u001b[0m \u001b[0mufl\u001b[0m\u001b[0;34m\u001b[0m\u001b[0;34m\u001b[0m\u001b[0m\n\u001b[1;32m     11\u001b[0m \u001b[0;32mimport\u001b[0m \u001b[0mdolfin\u001b[0m\u001b[0;34m.\u001b[0m\u001b[0mcpp\u001b[0m \u001b[0;32mas\u001b[0m \u001b[0mcpp\u001b[0m\u001b[0;34m\u001b[0m\u001b[0;34m\u001b[0m\u001b[0m\n\u001b[0;32m---> 12\u001b[0;31m \u001b[0;32mfrom\u001b[0m \u001b[0mdolfin\u001b[0m\u001b[0;34m.\u001b[0m\u001b[0mjit\u001b[0m\u001b[0;34m.\u001b[0m\u001b[0mjit\u001b[0m \u001b[0;32mimport\u001b[0m \u001b[0mdolfin_pc\u001b[0m\u001b[0;34m,\u001b[0m \u001b[0mffc_jit\u001b[0m\u001b[0;34m\u001b[0m\u001b[0;34m\u001b[0m\u001b[0m\n\u001b[0m\u001b[1;32m     13\u001b[0m \u001b[0;34m\u001b[0m\u001b[0m\n\u001b[1;32m     14\u001b[0m \u001b[0;34m\u001b[0m\u001b[0m\n",
      "\u001b[0;32m~/anaconda3/envs/fenicsproject/lib/python3.8/site-packages/dolfin/jit/jit.py\u001b[0m in \u001b[0;36m<module>\u001b[0;34m\u001b[0m\n\u001b[1;32m     16\u001b[0m     \u001b[0mdolfin_pc\u001b[0m \u001b[0;34m=\u001b[0m \u001b[0mpkgconfig\u001b[0m\u001b[0;34m.\u001b[0m\u001b[0mparse\u001b[0m\u001b[0;34m(\u001b[0m\u001b[0;34m\"dolfin\"\u001b[0m\u001b[0;34m)\u001b[0m\u001b[0;34m\u001b[0m\u001b[0;34m\u001b[0m\u001b[0m\n\u001b[1;32m     17\u001b[0m \u001b[0;32melse\u001b[0m\u001b[0;34m:\u001b[0m\u001b[0;34m\u001b[0m\u001b[0;34m\u001b[0m\u001b[0m\n\u001b[0;32m---> 18\u001b[0;31m     \u001b[0;32mraise\u001b[0m \u001b[0mRuntimeError\u001b[0m\u001b[0;34m(\u001b[0m\u001b[0;34m\"Could not find DOLFIN pkg-config file. Please make sure appropriate paths are set.\"\u001b[0m\u001b[0;34m)\u001b[0m\u001b[0;34m\u001b[0m\u001b[0;34m\u001b[0m\u001b[0m\n\u001b[0m\u001b[1;32m     19\u001b[0m \u001b[0;34m\u001b[0m\u001b[0m\n\u001b[1;32m     20\u001b[0m \u001b[0;34m\u001b[0m\u001b[0m\n",
      "\u001b[0;31mRuntimeError\u001b[0m: Could not find DOLFIN pkg-config file. Please make sure appropriate paths are set."
     ]
    }
   ],
   "source": [
    "from dolfin import *\n",
    "from mshr import *\n",
    "from pylab import show,triplot\n",
    "import matplotlib.pyplot as plt\n",
    "import numpy as np\n",
    "import fenics as fn\n"
   ]
  },
  {
   "cell_type": "code",
   "execution_count": null,
   "metadata": {},
   "outputs": [],
   "source": [
    "box_width = 200\n",
    "box_height = 50.\n",
    "\n",
    "pts_bbox=[]\n",
    "\n",
    "bounding_box=Polygon([Point(-box_width/2.,0.),\n",
    "                     Point(box_width/2.,0.),\n",
    "                     Point(box_width/2.,box_height),\n",
    "                     Point(-box_width/2.,box_height)])\n",
    "pillar_height=10\n",
    "pillar_width=2\n",
    "\n",
    "hollow_pillar_wall_thickness=0.1\n",
    "\n",
    "points=[[-pillar_width/2.,0.],\n",
    "                    [pillar_width/2.,0.],\n",
    "                     [pillar_width/2.,pillar_height],\n",
    "                     [-pillar_width/2.,pillar_height]]\n",
    "points.append(points[0]) #close the loop\n",
    "\n",
    "\n",
    "pillar_domain=[]\n",
    "for p in points:\n",
    "    pillar_domain.append(Point(p[0],p[1]))\n",
    "pillar_domain0=Polygon(pillar_domain)\n",
    "\n",
    "\n",
    "\n",
    "hollow_points=[[-pillar_width/2.,0.],\n",
    "                    [-pillar_width/2.,pillar_height],\n",
    "                    [-pillar_width/2.+hollow_pillar_wall_thickness,pillar_height],\n",
    "                    [-pillar_width/2.+hollow_pillar_wall_thickness,0]]\n",
    "hollow_points.append(hollow_points[0])\n",
    "hollow_points=np.asarray(hollow_points)[::-1,:]\n",
    "\n",
    "hollow_pillar_domain=[]\n",
    "for p in hollow_points:\n",
    "    hollow_pillar_domain.append(Point(p[0],p[1]))\n",
    "hollow_pillar_domain0=Polygon(hollow_pillar_domain)\n",
    "\n",
    "\n",
    "hollow_pillar_domain=[]\n",
    "for p in hollow_points:\n",
    "    hollow_pillar_domain.append(Point(p[0]+pillar_width-hollow_pillar_wall_thickness,p[1]))\n",
    "hollow_pillar_domain1=Polygon(hollow_pillar_domain)\n"
   ]
  },
  {
   "cell_type": "code",
   "execution_count": null,
   "metadata": {},
   "outputs": [],
   "source": []
  },
  {
   "cell_type": "code",
   "execution_count": 2,
   "metadata": {},
   "outputs": [
    {
     "ename": "NameError",
     "evalue": "name 'bounding_box' is not defined",
     "output_type": "error",
     "traceback": [
      "\u001b[0;31m---------------------------------------------------------------------------\u001b[0m",
      "\u001b[0;31mNameError\u001b[0m                                 Traceback (most recent call last)",
      "\u001b[0;32m<ipython-input-2-64ba5b784499>\u001b[0m in \u001b[0;36m<module>\u001b[0;34m\u001b[0m\n\u001b[0;32m----> 1\u001b[0;31m \u001b[0mdomain\u001b[0m\u001b[0;34m=\u001b[0m\u001b[0mbounding_box\u001b[0m\u001b[0;34m-\u001b[0m\u001b[0mpillar_domain0\u001b[0m\u001b[0;34m\u001b[0m\u001b[0;34m\u001b[0m\u001b[0m\n\u001b[0m\u001b[1;32m      2\u001b[0m \u001b[0;31m#domain_hollow=\u001b[0m\u001b[0;34m\u001b[0m\u001b[0;34m\u001b[0m\u001b[0;34m\u001b[0m\u001b[0m\n\u001b[1;32m      3\u001b[0m \u001b[0mmesh\u001b[0m \u001b[0;34m=\u001b[0m \u001b[0mgenerate_mesh\u001b[0m\u001b[0;34m(\u001b[0m\u001b[0mdomain\u001b[0m\u001b[0;34m,\u001b[0m\u001b[0;36m500\u001b[0m\u001b[0;34m)\u001b[0m\u001b[0;34m\u001b[0m\u001b[0;34m\u001b[0m\u001b[0m\n\u001b[1;32m      4\u001b[0m \u001b[0;34m\u001b[0m\u001b[0m\n\u001b[1;32m      5\u001b[0m \u001b[0mhollow_domain\u001b[0m\u001b[0;34m=\u001b[0m\u001b[0mbounding_box\u001b[0m\u001b[0;34m-\u001b[0m\u001b[0mhollow_pillar_domain0\u001b[0m\u001b[0;34m-\u001b[0m\u001b[0mhollow_pillar_domain1\u001b[0m\u001b[0;34m\u001b[0m\u001b[0;34m\u001b[0m\u001b[0m\n",
      "\u001b[0;31mNameError\u001b[0m: name 'bounding_box' is not defined"
     ]
    }
   ],
   "source": [
    "domain=bounding_box-pillar_domain0\n",
    "#domain_hollow=\n",
    "mesh = generate_mesh(domain,500)\n",
    "\n",
    "hollow_domain=bounding_box-hollow_pillar_domain0-hollow_pillar_domain1\n",
    "hollow_mesh = generate_mesh(hollow_domain,500)\n"
   ]
  },
  {
   "cell_type": "code",
   "execution_count": 3,
   "metadata": {
    "scrolled": true
   },
   "outputs": [
    {
     "ename": "NameError",
     "evalue": "name 'fn' is not defined",
     "output_type": "error",
     "traceback": [
      "\u001b[0;31m---------------------------------------------------------------------------\u001b[0m",
      "\u001b[0;31mNameError\u001b[0m                                 Traceback (most recent call last)",
      "\u001b[0;32m<ipython-input-3-decfa2c5bdd6>\u001b[0m in \u001b[0;36m<module>\u001b[0;34m\u001b[0m\n\u001b[1;32m     13\u001b[0m     \u001b[0;32mif\u001b[0m \u001b[0mfn\u001b[0m\u001b[0;34m.\u001b[0m\u001b[0mnear\u001b[0m\u001b[0;34m(\u001b[0m\u001b[0mx\u001b[0m\u001b[0;34m[\u001b[0m\u001b[0;36m1\u001b[0m\u001b[0;34m]\u001b[0m\u001b[0;34m,\u001b[0m \u001b[0;36m0\u001b[0m\u001b[0;34m,\u001b[0m \u001b[0meps\u001b[0m\u001b[0;34m=\u001b[0m\u001b[0mpillar_height\u001b[0m\u001b[0;34m)\u001b[0m \u001b[0;32mand\u001b[0m \u001b[0mon_boundary\u001b[0m \u001b[0;32mand\u001b[0m \u001b[0mx\u001b[0m\u001b[0;34m[\u001b[0m\u001b[0;36m0\u001b[0m\u001b[0;34m]\u001b[0m\u001b[0;34m<\u001b[0m\u001b[0mpillar_width\u001b[0m\u001b[0;34m/\u001b[0m\u001b[0;36m2.\u001b[0m \u001b[0;32mand\u001b[0m \u001b[0mx\u001b[0m\u001b[0;34m[\u001b[0m\u001b[0;36m0\u001b[0m\u001b[0;34m]\u001b[0m\u001b[0;34m>\u001b[0m\u001b[0;34m-\u001b[0m\u001b[0mpillar_width\u001b[0m\u001b[0;34m/\u001b[0m\u001b[0;36m2.\u001b[0m\u001b[0;34m:\u001b[0m\u001b[0;34m\u001b[0m\u001b[0;34m\u001b[0m\u001b[0m\n\u001b[1;32m     14\u001b[0m         \u001b[0;32mreturn\u001b[0m \u001b[0;32mTrue\u001b[0m\u001b[0;34m\u001b[0m\u001b[0;34m\u001b[0m\u001b[0m\n\u001b[0;32m---> 15\u001b[0;31m \u001b[0mV\u001b[0m \u001b[0;34m=\u001b[0m \u001b[0mfn\u001b[0m\u001b[0;34m.\u001b[0m\u001b[0mFunctionSpace\u001b[0m\u001b[0;34m(\u001b[0m\u001b[0mmesh\u001b[0m\u001b[0;34m,\u001b[0m \u001b[0;34m'P'\u001b[0m\u001b[0;34m,\u001b[0m \u001b[0;36m1\u001b[0m\u001b[0;34m)\u001b[0m\u001b[0;34m\u001b[0m\u001b[0;34m\u001b[0m\u001b[0m\n\u001b[0m\u001b[1;32m     16\u001b[0m \u001b[0;34m\u001b[0m\u001b[0m\n\u001b[1;32m     17\u001b[0m \u001b[0mv_0\u001b[0m \u001b[0;34m=\u001b[0m \u001b[0mfn\u001b[0m\u001b[0;34m.\u001b[0m\u001b[0mConstant\u001b[0m\u001b[0;34m(\u001b[0m\u001b[0;36m1.0\u001b[0m\u001b[0;34m)\u001b[0m\u001b[0;34m\u001b[0m\u001b[0;34m\u001b[0m\u001b[0m\n",
      "\u001b[0;31mNameError\u001b[0m: name 'fn' is not defined"
     ]
    }
   ],
   "source": [
    "\n",
    "\n",
    "def top_side(x, on_boundary):\n",
    "    if fn.near(x[1], box_height) and on_boundary:\n",
    "        return True\n",
    "def left_side(x, on_boundary):\n",
    "    if fn.near(x[0], -box_width/2.) and on_boundary:\n",
    "        return True\n",
    "def right_side(x, on_boundary):\n",
    "    if fn.near(x[0], box_width/2.) and on_boundary:\n",
    "        return True\n",
    "\n",
    "\n",
    "def bottom_side(x, on_boundary):\n",
    "    if fn.near(x[1], 0, eps=pillar_height) and on_boundary and x[0]<pillar_width/2. and x[0]>-pillar_width/2.: \n",
    "        return True\n",
    "V = fn.FunctionSpace(mesh, 'P', 1)\n",
    "\n",
    "v_0 = fn.Constant(1.0)\n",
    "v_1 = fn.Constant(0.0)\n",
    "\n",
    "u = fn.TrialFunction(V)\n",
    "v = fn.TestFunction(V)\n",
    "f = fn.Constant(0)\n",
    "a = fn.dot(fn.grad(u), fn.grad(v))*fn.dx\n",
    "L = f*v*fn.dx\n",
    "\n",
    "u = fn.Function(V)\n",
    "top_bc = fn.DirichletBC(V, v_1, top_side)\n",
    "l_bc = fn.DirichletBC(V, v_1, left_side)\n",
    "r_bc = fn.DirichletBC(V, v_1, right_side)\n",
    "bot_bc = fn.DirichletBC(V, v_0, bottom_side)\n",
    "bcs = [top_bc, bot_bc, l_bc,r_bc]\n",
    "fn.solve(a == L, u, bcs)\n",
    "\n",
    "plot(u)\n"
   ]
  },
  {
   "cell_type": "code",
   "execution_count": 35,
   "metadata": {},
   "outputs": [
    {
     "data": {
      "text/plain": [
       "<matplotlib.colorbar.Colorbar at 0x7efdc568ac70>"
      ]
     },
     "execution_count": 35,
     "metadata": {},
     "output_type": "execute_result"
    },
    {
     "data": {
      "image/png": "[encoded data removed]",
      "text/plain": [
       "<Figure size 360x360 with 2 Axes>"
      ]
     },
     "metadata": {
      "needs_background": "light"
     },
     "output_type": "display_data"
    }
   ],
   "source": [
    "E = - fn.grad(u)\n",
    "field = fn.File('electric_field.pvd')\n",
    "field << fn.project(E)\n",
    "fig=plt.figure(figsize=(5,5))\n",
    "im=plot(sqrt(E[0]**2+E[1]**2))\n",
    "plt.xlim(-2,2)\n",
    "plt.ylim(0,12)\n",
    "cax = fig.add_axes([1, 0., 0.05, 1])\n",
    "fig.colorbar(im, cax=cax, orientation='vertical')"
   ]
  },
  {
   "cell_type": "code",
   "execution_count": 24,
   "metadata": {},
   "outputs": [
    {
     "data": {
      "text/plain": [
       "(0, 11)"
      ]
     },
     "execution_count": 24,
     "metadata": {},
     "output_type": "execute_result"
    },
    {
     "data": {
      "image/png": "[encoded data removed]",
      "text/plain": [
       "<Figure size 432x288 with 1 Axes>"
      ]
     },
     "metadata": {
      "needs_background": "light"
     },
     "output_type": "display_data"
    }
   ],
   "source": [
    "\n",
    "\n",
    "def top_side(x, on_boundary):\n",
    "    if fn.near(x[1], box_height) and on_boundary:\n",
    "        return True\n",
    "def left_side(x, on_boundary):\n",
    "    if fn.near(x[0], -box_width/2.) and on_boundary:\n",
    "        return True\n",
    "def right_side(x, on_boundary):\n",
    "    if fn.near(x[0], box_width/2.) and on_boundary:\n",
    "        return True\n",
    "\n",
    "\n",
    "    \n",
    "def bottom_side(x, on_boundary):\n",
    "    if fn.near(x[1], 0, eps=pillar_height) and on_boundary and x[0]<pillar_width/2. and x[0]>-pillar_width/2.: \n",
    "        return True\n",
    "V = fn.FunctionSpace(hollow_mesh, 'P', 1)\n",
    "\n",
    "v_0 = fn.Constant(1.0)\n",
    "v_1 = fn.Constant(0.0)\n",
    "\n",
    "u = fn.TrialFunction(V)\n",
    "v = fn.TestFunction(V)\n",
    "f = fn.Constant(0)\n",
    "a = fn.dot(fn.grad(u), fn.grad(v))*fn.dx\n",
    "L = f*v*fn.dx\n",
    "\n",
    "hollow_u = fn.Function(V)\n",
    "top_bc = fn.DirichletBC(V, v_1, top_side)\n",
    "l_bc = fn.DirichletBC(V, v_1, left_side)\n",
    "r_bc = fn.DirichletBC(V, v_1, right_side)\n",
    "bot_bc = fn.DirichletBC(V, v_0, bottom_side)\n",
    "bcs = [top_bc, bot_bc, l_bc,r_bc]\n",
    "fn.solve(a == L, hollow_u, bcs)\n",
    "\n",
    "plot(hollow_u)\n",
    "plt.xlim(-3,3)\n",
    "plt.ylim(0,11)"
   ]
  },
  {
   "cell_type": "code",
   "execution_count": 40,
   "metadata": {},
   "outputs": [],
   "source": [
    "E_hollow = - fn.grad(hollow_u)\n",
    "field = fn.File('electric_field_hollow.pvd')\n",
    "field << fn.project(E_hollow)\n"
   ]
  },
  {
   "cell_type": "code",
   "execution_count": 42,
   "metadata": {},
   "outputs": [
    {
     "data": {
      "text/plain": [
       "<matplotlib.colorbar.Colorbar at 0x7efdc5553fd0>"
      ]
     },
     "execution_count": 42,
     "metadata": {},
     "output_type": "execute_result"
    },
    {
     "data": {
      "image/png": "[encoded data removed]",
      "text/plain": [
       "<Figure size 360x360 with 2 Axes>"
      ]
     },
     "metadata": {
      "needs_background": "light"
     },
     "output_type": "display_data"
    }
   ],
   "source": [
    "fig=plt.figure(figsize=(5,5))\n",
    "im=plot(sqrt(E_hollow[0]**2+E_hollow[1]**2))\n",
    "plt.xlim(-2,2)\n",
    "plt.ylim(0,12)\n",
    "\n",
    "cax = fig.add_axes([1, 0., 0.05, 1])\n",
    "fig.colorbar(im, cax=cax, orientation='vertical')"
   ]
  },
  {
   "cell_type": "code",
   "execution_count": null,
   "metadata": {},
   "outputs": [],
   "source": []
  },
  {
   "cell_type": "code",
   "execution_count": null,
   "metadata": {},
   "outputs": [],
   "source": []
  }
 ],
 "metadata": {
  "kernelspec": {
   "display_name": "fenics",
   "language": "python",
   "name": "fenics"
  },
  "language_info": {
   "codemirror_mode": {
    "name": "ipython",
    "version": 3
   },
   "file_extension": ".py",
   "mimetype": "text/x-python",
   "name": "python",
   "nbconvert_exporter": "python",
   "pygments_lexer": "ipython3",
   "version": "3.8.1"
  }
 },
 "nbformat": 4,
 "nbformat_minor": 2
}
